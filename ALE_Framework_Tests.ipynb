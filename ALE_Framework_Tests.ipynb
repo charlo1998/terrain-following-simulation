{
  "nbformat": 4,
  "nbformat_minor": 0,
  "metadata": {
    "colab": {
      "name": "ALE Framework Tests",
      "provenance": [],
      "include_colab_link": true
    },
    "kernelspec": {
      "display_name": "Python 3 (ipykernel)",
      "language": "python",
      "name": "python3"
    },
    "language_info": {
      "codemirror_mode": {
        "name": "ipython",
        "version": 3
      },
      "file_extension": ".py",
      "mimetype": "text/x-python",
      "name": "python",
      "nbconvert_exporter": "python",
      "pygments_lexer": "ipython3",
      "version": "3.9.8"
    }
  },
  "cells": [
    {
      "cell_type": "markdown",
      "metadata": {
        "id": "view-in-github",
        "colab_type": "text"
      },
      "source": [
        "<a href=\"https://colab.research.google.com/github/charlo1998/terrain-following-simulation/blob/main/ALE_Framework_Tests.ipynb\" target=\"_parent\"><img src=\"https://colab.research.google.com/assets/colab-badge.svg\" alt=\"Open In Colab\"/></a>"
      ]
    },
    {
      "cell_type": "code",
      "metadata": {
        "id": "3z3aqLItDvig",
        "colab": {
          "base_uri": "https://localhost:8080/"
        },
        "outputId": "042d4bb7-5291-48d0-9091-478de0597ef9"
      },
      "source": [
        "import sys\n",
        "\n",
        "if 'google.colab' in sys.modules:\n",
        "    !rm -rf *\n",
        "    !git clone https://github.com/Tinynja/Sarsa-phi-EB\n",
        "    !mv Sarsa-phi-EB/* .\n",
        "    !rm -rf Sarsa-phi-EB\n",
        "    # DON'T install packages defined in Pipfile_colab_remove\n",
        "    !sed -ri \"/$(tr '\\n' '|' < Pipfile_colab_remove)/d\" Pipfile\n",
        "else:\n",
        "    print('Skipping GitHub cloning since not running in Colab.')"
      ],
      "execution_count": 1,
      "outputs": [
        {
          "output_type": "stream",
          "name": "stdout",
          "text": [
            "Cloning into 'Sarsa-phi-EB'...\n",
            "remote: Enumerating objects: 193, done.\u001b[K\n",
            "remote: Counting objects: 100% (193/193), done.\u001b[K\n",
            "remote: Compressing objects: 100% (167/167), done.\u001b[K\n",
            "remote: Total 193 (delta 39), reused 148 (delta 17), pack-reused 0\u001b[K\n",
            "Receiving objects: 100% (193/193), 613.07 KiB | 2.42 MiB/s, done.\n",
            "Resolving deltas: 100% (39/39), done.\n"
          ]
        }
      ]
    },
    {
      "cell_type": "code",
      "metadata": {
        "id": "ZdficWqDDviq",
        "colab": {
          "base_uri": "https://localhost:8080/"
        },
        "outputId": "4d078a66-1348-4ca6-bfd8-33a3886f9fc5"
      },
      "source": [
        "# Install required dependencies\n",
        "if 'google.colab' in sys.modules:\n",
        "    # Colab doesn't support pipenv, hence we convert Pipfile into requirements.txt\n",
        "    !pip install pipenv 1> /dev/null\n",
        "    !pipenv lock -r > requirements.txt\n",
        "    !pip install -r requirements.txt 1> /dev/null\n",
        "else:\n",
        "    !pipenv lock 1> /dev/null\n",
        "    !pipenv install --deploy 1> /dev/null"
      ],
      "execution_count": 2,
      "outputs": [
        {
          "output_type": "stream",
          "name": "stdout",
          "text": [
            "Creating a virtualenv for this project...\n",
            "Pipfile: /content/Pipfile\n",
            "Using /usr/local/bin/python (3.7.12) to create virtualenv...\n",
            "⠼\u001b[0m Creating virtual environment...\u001b[Kcreated virtual environment CPython3.7.12.final.0-64 in 949ms\n",
            "  creator CPython3Posix(dest=/root/.local/share/virtualenvs/content-cQIIIOO2, clear=False, no_vcs_ignore=False, global=False)\n",
            "  seeder FromAppData(download=False, pip=bundle, setuptools=bundle, wheel=bundle, via=copy, app_data_dir=/root/.local/share/virtualenv)\n",
            "    added seed packages: pip==21.3.1, setuptools==58.3.0, wheel==0.37.0\n",
            "  activators BashActivator,CShellActivator,FishActivator,NushellActivator,PowerShellActivator,PythonActivator\n",
            "\n",
            "\u001b[K\u001b[?25h\u001b[32m\u001b[22m✔ Successfully created virtual environment!\u001b[39m\u001b[22m\u001b[0m \n",
            "Virtualenv location: /root/.local/share/virtualenvs/content-cQIIIOO2\n",
            "Pipfile.lock not found, creating...\n",
            "Locking [dev-packages] dependencies...\n",
            "Locking [packages] dependencies...\n",
            "\u001b[KBuilding requirements...\n",
            "\u001b[KResolving dependencies...\n",
            "\u001b[K\u001b[?25h\u001b[32m\u001b[22m✔ Success!\u001b[39m\u001b[22m\u001b[0m \n",
            "Updated Pipfile.lock (44ce9b)!\n",
            "\u001b[31mERROR: pip's dependency resolver does not currently take into account all the packages that are installed. This behaviour is the source of the following dependency conflicts.\n",
            "yellowbrick 1.3.post1 requires numpy<1.20,>=1.16.0, but you have numpy 1.21.4 which is incompatible.\n",
            "datascience 0.10.6 requires folium==0.2.1, but you have folium 0.8.3 which is incompatible.\n",
            "arviz 0.11.4 requires typing-extensions<4,>=3.7.4.3, but you have typing-extensions 4.0.1 which is incompatible.\n",
            "albumentations 0.1.12 requires imgaug<0.2.7,>=0.2.5, but you have imgaug 0.2.9 which is incompatible.\u001b[0m\n"
          ]
        }
      ]
    },
    {
      "cell_type": "code",
      "metadata": {
        "scrolled": true,
        "id": "_YFCigY7Dvis",
        "colab": {
          "base_uri": "https://localhost:8080/"
        },
        "outputId": "93f23e09-6ee3-4918-d4b4-1cec2b042e8f"
      },
      "source": [
        "# Import all supported ROMs into ALE\n",
        "!ale-import-roms ROMS"
      ],
      "execution_count": 3,
      "outputs": [
        {
          "output_type": "stream",
          "name": "stdout",
          "text": [
            "\u001b[92m[SUPPORTED]    \u001b[0m                qbert        ROMS/Q. Bert (1983).bin\n",
            "\u001b[92m[SUPPORTED]    \u001b[0m               casino ROMS/Casino - Poker Plus (Paddle) (1979).bin\n",
            "\u001b[92m[SUPPORTED]    \u001b[0m         demon_attack ROMS/Demon Attack (Death from Above) (1982).bin\n",
            "\u001b[92m[SUPPORTED]    \u001b[0m              bowling        ROMS/Bowling (1979).bin\n",
            "\u001b[92m[SUPPORTED]    \u001b[0m             seaquest       ROMS/Seaquest (1983).bin\n",
            "\u001b[92m[SUPPORTED]    \u001b[0m      chopper_command ROMS/Chopper Command (1982).bin\n",
            "\u001b[92m[SUPPORTED]    \u001b[0m           time_pilot     ROMS/Time Pilot (1983).bin\n",
            "\u001b[92m[SUPPORTED]    \u001b[0m             trondead ROMS/TRON - Deadly Discs (TRON Joystick) (1983).bin\n",
            "\u001b[92m[SUPPORTED]    \u001b[0m            jamesbond ROMS/James Bond 007 (James Bond Agent 007) (1984).bin\n",
            "\u001b[92m[SUPPORTED]    \u001b[0m               pacman        ROMS/Pac-Man (1982).bin\n",
            "\u001b[92m[SUPPORTED]    \u001b[0m               kaboom ROMS/Kaboom! (Paddle) (1981).bin\n",
            "\u001b[92m[SUPPORTED]    \u001b[0m              asterix ROMS/Asterix (AKA Taz) (1983).bin\n",
            "\u001b[92m[SUPPORTED]    \u001b[0m                qbert         ROMS/Q-bert (1987).bin\n",
            "\u001b[92m[SUPPORTED]    \u001b[0m              pitfall ROMS/Pitfall! - Pitfall Harry's Jungle Adventure (Jungle Runner) (1982).bin\n",
            "\u001b[92m[SUPPORTED]    \u001b[0m              venture        ROMS/Venture (1982).bin\n",
            "\u001b[92m[SUPPORTED]    \u001b[0m               enduro         ROMS/Enduro (1983).bin\n",
            "\u001b[92m[SUPPORTED]    \u001b[0m                alien          ROMS/Alien (1982).bin\n",
            "\u001b[92m[SUPPORTED]    \u001b[0m             atlantis ROMS/Atlantis (Lost City of Atlantis) (1982).bin\n",
            "\u001b[92m[SUPPORTED]    \u001b[0m           basic_math ROMS/Basic Math - Math (Math Pack) (1977).bin\n",
            "\u001b[92m[SUPPORTED]    \u001b[0m                   et ROMS/E.T. - The Extra-Terrestrial (1982).bin\n",
            "\u001b[92m[SUPPORTED]    \u001b[0m         lost_luggage ROMS/Lost Luggage (Airport Mayhem) (1982).bin\n",
            "\u001b[92m[SUPPORTED]    \u001b[0m               boxing ROMS/Boxing - La Boxe (1980).bin\n",
            "\u001b[92m[SUPPORTED]    \u001b[0m             gravitar       ROMS/Gravitar (1983).bin\n",
            "\u001b[92m[SUPPORTED]    \u001b[0m     human_cannonball ROMS/Human Cannonball - Cannon Man (1979).bin\n",
            "\u001b[92m[SUPPORTED]    \u001b[0m           beam_rider      ROMS/Beamrider (1984).bin\n",
            "\u001b[92m[SUPPORTED]    \u001b[0m               gopher ROMS/Gopher (Gopher Attack) (1982).bin\n",
            "\u001b[92m[SUPPORTED]    \u001b[0m              asterix ROMS/Asterix (AKA Taz) (1984).bin\n",
            "\u001b[92m[SUPPORTED]    \u001b[0m       name_this_game ROMS/Name This Game (Guardians of Treasure) (1983).bin\n",
            "\u001b[92m[SUPPORTED]    \u001b[0m                krull          ROMS/Krull (1983).bin\n",
            "\u001b[92m[SUPPORTED]    \u001b[0m            videocube ROMS/Atari Video Cube (Atari Cube, Video Cube) (1983).bin\n",
            "\u001b[92m[SUPPORTED]    \u001b[0m            tutankham      ROMS/Tutankham (1983).bin\n",
            "\u001b[92m[SUPPORTED]    \u001b[0m       space_invaders ROMS/Space Invaders (1980).bin\n",
            "\u001b[92m[SUPPORTED]    \u001b[0m         sir_lancelot   ROMS/Sir Lancelot (1983).bin\n",
            "\u001b[92m[SUPPORTED]    \u001b[0m             robotank ROMS/Robot Tank (Robotank) (1983).bin\n",
            "\u001b[92m[SUPPORTED]    \u001b[0m             kangaroo       ROMS/Kangaroo (1983).bin\n",
            "\u001b[92m[SUPPORTED]    \u001b[0m       tic_tac_toe_3d ROMS/3-D Tic-Tac-Toe (1980).bin\n",
            "\u001b[92m[SUPPORTED]    \u001b[0m            centipede      ROMS/Centipede (1983).bin\n",
            "\u001b[92m[SUPPORTED]    \u001b[0m      elevator_action ROMS/Elevator Action (1983).bin\n",
            "\u001b[92m[SUPPORTED]    \u001b[0m               tennis ROMS/Tennis - Le Tennis (1981).bin\n",
            "\u001b[92m[SUPPORTED]    \u001b[0m        wizard_of_wor  ROMS/Wizard of Wor (1982).bin\n",
            "\u001b[92m[SUPPORTED]    \u001b[0m            atlantis2    ROMS/Atlantis II (1982).bin\n",
            "\u001b[92m[SUPPORTED]    \u001b[0m           ice_hockey ROMS/Ice Hockey - Le Hockey Sur Glace (1981).bin\n",
            "\u001b[92m[SUPPORTED]    \u001b[0m             surround ROMS/Surround - Chase (Blockade) (1977).bin\n",
            "\u001b[92m[SUPPORTED]    \u001b[0m      keystone_kapers ROMS/Keystone Kapers - Raueber und Gendarm (1983).bin\n",
            "\u001b[92m[SUPPORTED]    \u001b[0m             carnival       ROMS/Carnival (1982).bin\n",
            "\u001b[92m[SUPPORTED]    \u001b[0m              phoenix        ROMS/Phoenix (1983).bin\n",
            "\u001b[92m[SUPPORTED]    \u001b[0m           basic_math ROMS/Fun with Numbers (AKA Basic Math) (1980).bin\n",
            "\u001b[92m[SUPPORTED]    \u001b[0m               skiing ROMS/Skiing - Le Ski (1980).bin\n",
            "\u001b[92m[SUPPORTED]    \u001b[0m              frogger        ROMS/Frogger (1982).bin\n",
            "\u001b[92m[SUPPORTED]    \u001b[0m              assault ROMS/Assault (AKA Sky Alien) (1983).bin\n",
            "\u001b[92m[SUPPORTED]    \u001b[0m         yars_revenge ROMS/Yars' Revenge (Time Freeze) (1982).bin\n",
            "\u001b[92m[SUPPORTED]    \u001b[0m          double_dunk ROMS/Double Dunk (Super Basketball) (1989).bin\n",
            "\u001b[92m[SUPPORTED]    \u001b[0m             defender       ROMS/Defender (1982).bin\n",
            "\u001b[92m[SUPPORTED]    \u001b[0m             entombed ROMS/Entombed (Maze Chase, Pharaoh's Tomb, Zombie) (1983).bin\n",
            "\u001b[92m[SUPPORTED]    \u001b[0m                qbert         ROMS/Q-bert (1983).bin\n",
            "\u001b[92m[SUPPORTED]    \u001b[0m              koolaid ROMS/Kool-Aid Man (Kool Aid Pitcher Man) (1983).bin\n",
            "\u001b[92m[SUPPORTED]    \u001b[0m       kung_fu_master ROMS/Kung-Fu Master (1987).bin\n",
            "\u001b[92m[SUPPORTED]    \u001b[0m            space_war ROMS/Space War - Space Star (32 in 1) (1988).bin\n",
            "\u001b[92m[SUPPORTED]    \u001b[0m         darkchambers ROMS/Dark Chambers (Dungeon, Dungeon Masters) (1989).bin\n",
            "\u001b[92m[SUPPORTED]    \u001b[0m       miniature_golf ROMS/Miniature Golf - Arcade Golf (1979).bin\n",
            "\u001b[92m[SUPPORTED]    \u001b[0m              turmoil        ROMS/Turmoil (1982).bin\n",
            "\u001b[92m[SUPPORTED]    \u001b[0m                 pong ROMS/Video Olympics - Pong Sports (Paddle) (1977).bin\n",
            "\u001b[92m[SUPPORTED]    \u001b[0m             galaxian       ROMS/Galaxian (1983).bin\n",
            "\u001b[92m[SUPPORTED]    \u001b[0m        fishing_derby  ROMS/Fishing Derby (1980).bin\n",
            "\u001b[92m[SUPPORTED]    \u001b[0m          donkey_kong    ROMS/Donkey Kong (1982).bin\n",
            "\u001b[92m[SUPPORTED]    \u001b[0m            frostbite      ROMS/Frostbite (1983).bin\n",
            "\u001b[92m[SUPPORTED]    \u001b[0m           backgammon ROMS/Backgammon (Paddle) (1979).bin\n",
            "\u001b[92m[SUPPORTED]    \u001b[0m            king_kong      ROMS/King Kong (1982).bin\n",
            "\u001b[92m[SUPPORTED]    \u001b[0m          road_runner    ROMS/Road Runner (1989).bin\n",
            "\u001b[92m[SUPPORTED]    \u001b[0m              othello        ROMS/Othello (1981).bin\n",
            "\u001b[92m[SUPPORTED]    \u001b[0m          donkey_kong    ROMS/Donkey Kong (1987).bin\n",
            "\u001b[92m[SUPPORTED]    \u001b[0m           videochess ROMS/Video Chess (Computer Chess) (1979).bin\n",
            "\u001b[92m[SUPPORTED]    \u001b[0m              solaris ROMS/Solaris (The Last Starfighter, Star Raiders II, Universe) (1986).bin\n",
            "\u001b[92m[SUPPORTED]    \u001b[0m              hangman ROMS/Hangman - Spelling (1978).bin\n",
            "\u001b[92m[SUPPORTED]    \u001b[0m             crossbow       ROMS/Crossbow (1988).bin\n",
            "\u001b[92m[SUPPORTED]    \u001b[0m       journey_escape ROMS/Journey Escape (1983).bin\n",
            "\u001b[92m[SUPPORTED]    \u001b[0m        video_pinball ROMS/Video Pinball - Arcade Pinball (1981).bin\n",
            "\u001b[92m[SUPPORTED]    \u001b[0m    montezuma_revenge ROMS/Montezuma's Revenge - Featuring Panama Joe (1984).bin\n",
            "\u001b[92m[SUPPORTED]    \u001b[0m           mario_bros    ROMS/Mario Bros. (1983).bin\n",
            "\u001b[92m[SUPPORTED]    \u001b[0m                 klax           ROMS/Klax (1991).bin\n",
            "\u001b[92m[SUPPORTED]    \u001b[0m             breakout ROMS/Breakout - Breakaway IV (Paddle) (1978).bin\n",
            "\u001b[92m[SUPPORTED]    \u001b[0m            blackjack ROMS/Blackjack - Black Jack (Gambling) (Paddle) (1977).bin\n",
            "\u001b[92m[SUPPORTED]    \u001b[0m         flag_capture ROMS/Flag Capture - Capture (Capture the Flag) (1978).bin\n",
            "\u001b[92m[SUPPORTED]    \u001b[0m             air_raid ROMS/Air Raid (Men-A-Vision) (PAL) ~.bin\n",
            "\u001b[92m[SUPPORTED]    \u001b[0m           earthworld ROMS/SwordQuest - EarthWorld (Adventure I, SwordQuest I - EarthWorld) (1982).bin\n",
            "\u001b[92m[SUPPORTED]    \u001b[0m            riverraid     ROMS/River Raid (1982).bin\n",
            "\u001b[92m[SUPPORTED]    \u001b[0m             pitfall2 ROMS/Pitfall II - Lost Caverns (1984).bin\n",
            "\u001b[92m[SUPPORTED]    \u001b[0m               pooyan         ROMS/Pooyan (1983).bin\n",
            "\u001b[92m[SUPPORTED]    \u001b[0m               amidar         ROMS/Amidar (1982).bin\n",
            "\u001b[92m[SUPPORTED]    \u001b[0m            asteroids      ROMS/Asteroids (1981).bin\n",
            "\u001b[92m[SUPPORTED]    \u001b[0m          battle_zone     ROMS/Battlezone (1983).bin\n",
            "\u001b[92m[SUPPORTED]    \u001b[0m             surround ROMS/Surround (32 in 1) (Bit Corporation) (R320).bin\n",
            "\u001b[92m[SUPPORTED]    \u001b[0m          private_eye    ROMS/Private Eye (1984).bin\n",
            "\u001b[92m[SUPPORTED]    \u001b[0m        crazy_climber  ROMS/Crazy Climber (1983).bin\n",
            "\u001b[92m[SUPPORTED]    \u001b[0m          star_gunner     ROMS/Stargunner (1983).bin\n",
            "\u001b[92m[SUPPORTED]    \u001b[0m            up_n_down     ROMS/Up 'n Down (1984).bin\n",
            "\u001b[92m[SUPPORTED]    \u001b[0m          laser_gates ROMS/Laser Gates (AKA Innerspace) (1983).bin\n",
            "\u001b[92m[SUPPORTED]    \u001b[0m        video_pinball ROMS/Pinball (AKA Video Pinball) (Zellers).bin\n",
            "\u001b[92m[SUPPORTED]    \u001b[0m               zaxxon         ROMS/Zaxxon (1983).bin\n",
            "\u001b[92m[SUPPORTED]    \u001b[0m       video_checkers ROMS/Video Checkers - Checkers - Atari Video Checkers (1980).bin\n",
            "\u001b[92m[SUPPORTED]    \u001b[0m             superman       ROMS/Superman (1979).bin\n",
            "\u001b[92m[SUPPORTED]    \u001b[0m              berzerk        ROMS/Berzerk (1982).bin\n",
            "\u001b[92m[SUPPORTED]    \u001b[0m            adventure      ROMS/Adventure (1980).bin\n",
            "\u001b[92m[SUPPORTED]    \u001b[0m            ms_pacman    ROMS/Ms. Pac-Man (1983).bin\n",
            "\u001b[92m[SUPPORTED]    \u001b[0m        haunted_house ROMS/Haunted House (Mystery Mansion, Graves' Manor, Nightmare Manor) (1982).bin\n",
            "\u001b[92m[SUPPORTED]    \u001b[0m           bank_heist ROMS/Bank Heist (Bonnie & Clyde, Cops 'n' Robbers, Hold-Up, Roaring 20's) (1983).bin\n",
            "\u001b[92m[SUPPORTED]    \u001b[0m              freeway        ROMS/Freeway (1981).bin\n",
            "\u001b[92m[SUPPORTED]    \u001b[0m                 hero       ROMS/H.E.R.O. (1984).bin\n",
            "\u001b[92m[SUPPORTED]    \u001b[0m                mr_do        ROMS/Mr. Do! (1983).bin\n",
            "\u001b[92m[SUPPORTED]    \u001b[0m          word_zapper ROMS/Word Zapper (Word Grabber) (1982).bin\n",
            "\n",
            "\n",
            "\n",
            "Imported 110 / 110 ROMs\n"
          ]
        }
      ]
    },
    {
      "cell_type": "code",
      "metadata": {
        "id": "_SfKRFx8Dvit",
        "colab": {
          "base_uri": "https://localhost:8080/"
        },
        "outputId": "1e6b8507-02c2-4693-a7bd-50f665824c44"
      },
      "source": [
        "# Built-in libraries\n",
        "import re\n",
        "import sys\n",
        "import base64\n",
        "import random\n",
        "from pathlib import Path\n",
        "\n",
        "# Pipy libraries\n",
        "from IPython import display as ipythondisplay\n",
        "from ale_py import ALEInterface, SDL_SUPPORT\n",
        "from ale_py.roms import Breakout\n",
        "from PIL import Image"
      ],
      "execution_count": 4,
      "outputs": [
        {
          "output_type": "stream",
          "name": "stderr",
          "text": [
            "/usr/local/lib/python3.7/dist-packages/ale_py/roms/utils.py:90: DeprecationWarning: SelectableGroups dict interface is deprecated. Use select.\n",
            "  for external in metadata.entry_points().get(self.group, []):\n"
          ]
        }
      ]
    },
    {
      "cell_type": "code",
      "metadata": {
        "id": "zAs6_UzuKGjz"
      },
      "source": [
        "class EnvALE:\n",
        "    def __init__(self, rom, out_dir='ale-results', display=False, seed=0):\n",
        "        self.out_dir = Path(out_dir).resolve()\n",
        "        self.out_dir.mkdir(exist_ok=True)\n",
        "    \n",
        "        self.ale = ALEInterface()\n",
        "        self.ale.setInt(\"random_seed\", seed)\n",
        "        if SDL_SUPPORT and 'google.colab' not in sys.modules:\n",
        "            ale.setBool(\"sound\", True)\n",
        "            ale.setBool(\"display_screen\", True)\n",
        "        self.ale.loadROM(rom)\n",
        "\n",
        "        self.action_space = self.ale.getMinimalActionSet()\n",
        "\n",
        "        # Default values\n",
        "        self._timestep = 0\n",
        "        self._do_record = False\n",
        "        self._record_padding = None\n",
        "\n",
        "    def reset(self, do_record=False):\n",
        "        self.ale.reset_game()\n",
        "        observation = self._observe()\n",
        "        self._timestep = 0\n",
        "\n",
        "        self._do_record = do_record\n",
        "        self._handle_recording()\n",
        "        \n",
        "        return observation\n",
        "        \n",
        "    def step(self, action):\n",
        "        reward = self.ale.act(action)\n",
        "        observation = self._observe()\n",
        "        done = self.ale.game_over()\n",
        "        self._timestep += 1\n",
        "        \n",
        "        self._handle_recording()\n",
        "        \n",
        "        return observation, reward, done, None\n",
        "\n",
        "    def show_video(self, scale=1):\n",
        "        \"\"\"Show a .mp4 video in html format of the recorded episode\"\"\"\n",
        "        filepath = self.out_dir.joinpath('record.mp4')\n",
        "        video_b64 = base64.b64encode(filepath.read_bytes())\n",
        "        html = f'''<video alt=\"{filepath}\" autoplay loop controls style=\"height:300px\">\n",
        "                        <source src=\"data:video/mp4;base64,{video_b64.decode('ascii')}\" type=\"video/mp4\" />\n",
        "                   </video>'''\n",
        "        ipythondisplay.display(ipythondisplay.HTML(data=html))\n",
        "        \n",
        "    def _observe(self):\n",
        "        observation = self.ale.getScreenRGB()\n",
        "        return observation\n",
        "    \n",
        "    def _handle_recording(self):\n",
        "        # Do nothing if not asked to record\n",
        "        if not self._do_record: return\n",
        "        # This is a new episode, delete previously recorded steps\n",
        "        if not self._timestep:\n",
        "            self.out_dir.joinpath('record').mkdir(exist_ok=True)\n",
        "            for step_png in self.out_dir.glob('record/step_*.png'):\n",
        "                step_png.unlink()\n",
        "            self._record_padding = None\n",
        "        # Record current timestep png\n",
        "        out_path = self.out_dir.joinpath(f'record/step_{self._timestep}.png')\n",
        "        self.ale.saveScreenPNG(str(out_path))\n",
        "        # Once the episode is over, format all png filenames to have the same integer 0 padding\n",
        "        if self.ale.game_over():\n",
        "            self._record_padding = len(str(self._timestep))\n",
        "            self._standardize_record_padding()\n",
        "            self._png_to_mp4()\n",
        "    \n",
        "    def _standardize_record_padding(self):\n",
        "        number_pattern = re.compile('\\d+')\n",
        "        for png in self.out_dir.glob('record/step_*.png'):\n",
        "            timestep = int(number_pattern.search(png.stem).group(0))\n",
        "            new_name = png.parent.joinpath(f'step_{timestep:0{self._record_padding}d}.png')\n",
        "            png.rename(new_name)\n",
        "\n",
        "    def _png_to_mp4(self):\n",
        "        \"\"\"Convert the recorded set of png files into a mp4 video\"\"\"\n",
        "        in_dir = self.out_dir.joinpath('record')\n",
        "        in_pattern = self.out_dir.joinpath(f'record/step_%0{self._record_padding}d.png')\n",
        "        out_file = self.out_dir.joinpath('record.mp4')\n",
        "        !cd $in_dir; ffmpeg -hide_banner -loglevel error -r 60 -i $in_pattern -vcodec libx264 -crf 25 -pix_fmt yuv420p -y $out_file"
      ],
      "execution_count": 50,
      "outputs": []
    },
    {
      "cell_type": "code",
      "metadata": {
        "colab": {
          "base_uri": "https://localhost:8080/",
          "height": 322
        },
        "id": "dh8WdcHh4Z8M",
        "outputId": "38a7e426-50e7-4b6e-f5a1-98bf25fdeffb"
      },
      "source": [
        "env = EnvALE(Breakout)\n",
        "\n",
        "# Play an episode\n",
        "done, observation = False, env.reset(do_record=True)\n",
        "while not done:\n",
        "    action = random.choice(env.action_space)\n",
        "    observation, reward, done, info = env.step(action)\n",
        "env.show_video()"
      ],
      "execution_count": 51,
      "outputs": [
        {
          "output_type": "display_data",
          "data": {
            "text/html": [
              "<video alt=\"/content/ale-results/record.mp4\" autoplay loop controls style=\"height:300px\">\n",
              "                        <source src=\"data:video/mp4;base64,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\" type=\"video/mp4\" />\n",
              "                   </video>"
            ],
            "text/plain": [
              "<IPython.core.display.HTML object>"
            ]
          },
          "metadata": {}
        }
      ]
    },
    {
      "cell_type": "code",
      "metadata": {
        "id": "SUzoxYP6GJ4J"
      },
      "source": [
        "class BreakoutEnv(EnvALE):\n",
        "  def step(self, action):\n",
        "    if action == 0:\n",
        "        action = env.action_space[0]\n",
        "    elif action == 1:\n",
        "        action = env.action_space[1]\n",
        "    elif action == 2:\n",
        "        action = env.action_space[2]\n",
        "    elif action == 3:\n",
        "        action = env.action_space[3]\n",
        "    else:\n",
        "      print('action not recognised, use 0, 1, 2, or 3')\n",
        "    reward = self.ale.act(action)\n",
        "    observation = self._observe()\n",
        "    done = self.ale.game_over()\n",
        "    self._timestep += 1\n",
        "    \n",
        "    self._handle_recording()\n",
        "    \n",
        "    return observation, reward, done, None\n",
        "\n",
        "  def _observe(self):\n",
        "      observation = self.ale.getScreenRGB()\n",
        "      return observation.flatten()\n",
        "    "
      ],
      "execution_count": 60,
      "outputs": []
    },
    {
      "cell_type": "code",
      "metadata": {
        "colab": {
          "base_uri": "https://localhost:8080/",
          "height": 322
        },
        "id": "jO-e0i9qFA_h",
        "outputId": "94213da7-7483-4ed0-a46a-f6b1ec99f6a3"
      },
      "source": [
        "env = BreakoutEnv(Breakout)\n",
        "\n",
        "# Play an episode\n",
        "done, observation = False, env.reset(do_record=True)\n",
        "while not done:\n",
        "    #action = random.choice(env.action_space)\n",
        "    action = random.choice(range(4))\n",
        "    observation, reward, done, info = env.step(action)\n",
        "env.show_video()"
      ],
      "execution_count": 61,
      "outputs": [
        {
          "output_type": "display_data",
          "data": {
            "text/html": [
              "<video alt=\"/content/ale-results/record.mp4\" autoplay loop controls style=\"height:300px\">\n",
              "                        <source src=\"data:video/mp4;base64,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\" type=\"video/mp4\" />\n",
              "                   </video>"
            ],
            "text/plain": [
              "<IPython.core.display.HTML object>"
            ]
          },
          "metadata": {}
        }
      ]
    },
    {
      "cell_type": "code",
      "metadata": {
        "id": "nY10F1TLPpvq",
        "outputId": "dc86590d-ca37-4d8a-f5e4-cf18d1628acb",
        "colab": {
          "base_uri": "https://localhost:8080/"
        }
      },
      "source": [
        "env._observe()"
      ],
      "execution_count": 66,
      "outputs": [
        {
          "output_type": "execute_result",
          "data": {
            "text/plain": [
              "array([0, 0, 0, ..., 0, 0, 0], dtype=uint8)"
            ]
          },
          "metadata": {},
          "execution_count": 66
        }
      ]
    },
    {
      "cell_type": "markdown",
      "metadata": {
        "id": "59AT0U2m7h-s"
      },
      "source": [
        "Sarsa implementation\n"
      ]
    },
    {
      "cell_type": "code",
      "metadata": {
        "colab": {
          "base_uri": "https://localhost:8080/"
        },
        "id": "oAVHYH8c6rFJ",
        "outputId": "1d0acd12-b577-4749-98e1-29b34246fc31"
      },
      "source": [
        "# install dependencies\n",
        "!pip install torch torchvision pyvirtualdisplay matplotlib seaborn pandas numpy pathlib gym\n",
        "!sudo apt-get install xvfb\n",
        "\n",
        "# Run this cell\n",
        "\n",
        "# type hinting \n",
        "from typing import Sequence, Tuple, Dict, Any, Optional\n",
        "\n",
        "import numpy as np\n",
        "\n",
        "# torch stuff\n",
        "#import torch\n",
        "#import torch.nn as nn\n",
        "#import torch.nn.functional as F \n",
        "#from torch import optim\n",
        "\n",
        "# env\n",
        "import gym\n",
        "\n",
        "# data manipulation, colab dispaly, and plotting\n",
        "import pandas as pd\n",
        "import matplotlib.pyplot as plt\n",
        "\n",
        "\n",
        "# misc util\n",
        "import random"
      ],
      "execution_count": 10,
      "outputs": [
        {
          "output_type": "stream",
          "name": "stdout",
          "text": [
            "Requirement already satisfied: torch in /usr/local/lib/python3.7/dist-packages (1.10.0+cu111)\n",
            "Requirement already satisfied: torchvision in /usr/local/lib/python3.7/dist-packages (0.11.1+cu111)\n",
            "Requirement already satisfied: pyvirtualdisplay in /usr/local/lib/python3.7/dist-packages (2.2)\n",
            "Requirement already satisfied: matplotlib in /usr/local/lib/python3.7/dist-packages (3.2.2)\n",
            "Requirement already satisfied: seaborn in /usr/local/lib/python3.7/dist-packages (0.11.2)\n",
            "Requirement already satisfied: pandas in /usr/local/lib/python3.7/dist-packages (1.1.5)\n",
            "Requirement already satisfied: numpy in /usr/local/lib/python3.7/dist-packages (1.21.4)\n",
            "Requirement already satisfied: pathlib in /usr/local/lib/python3.7/dist-packages (1.0.1)\n",
            "Requirement already satisfied: gym in /usr/local/lib/python3.7/dist-packages (0.17.3)\n",
            "Requirement already satisfied: typing-extensions in /usr/local/lib/python3.7/dist-packages (from torch) (4.0.1)\n",
            "Requirement already satisfied: pillow!=8.3.0,>=5.3.0 in /usr/local/lib/python3.7/dist-packages (from torchvision) (7.1.2)\n",
            "Requirement already satisfied: EasyProcess in /usr/local/lib/python3.7/dist-packages (from pyvirtualdisplay) (0.3)\n",
            "Requirement already satisfied: kiwisolver>=1.0.1 in /usr/local/lib/python3.7/dist-packages (from matplotlib) (1.3.2)\n",
            "Requirement already satisfied: cycler>=0.10 in /usr/local/lib/python3.7/dist-packages (from matplotlib) (0.11.0)\n",
            "Requirement already satisfied: pyparsing!=2.0.4,!=2.1.2,!=2.1.6,>=2.0.1 in /usr/local/lib/python3.7/dist-packages (from matplotlib) (3.0.6)\n",
            "Requirement already satisfied: python-dateutil>=2.1 in /usr/local/lib/python3.7/dist-packages (from matplotlib) (2.8.2)\n",
            "Requirement already satisfied: six>=1.5 in /usr/local/lib/python3.7/dist-packages (from python-dateutil>=2.1->matplotlib) (1.15.0)\n",
            "Requirement already satisfied: scipy>=1.0 in /usr/local/lib/python3.7/dist-packages (from seaborn) (1.4.1)\n",
            "Requirement already satisfied: pytz>=2017.2 in /usr/local/lib/python3.7/dist-packages (from pandas) (2018.9)\n",
            "Requirement already satisfied: cloudpickle<1.7.0,>=1.2.0 in /usr/local/lib/python3.7/dist-packages (from gym) (1.3.0)\n",
            "Requirement already satisfied: pyglet<=1.5.0,>=1.4.0 in /usr/local/lib/python3.7/dist-packages (from gym) (1.5.0)\n",
            "Requirement already satisfied: future in /usr/local/lib/python3.7/dist-packages (from pyglet<=1.5.0,>=1.4.0->gym) (0.16.0)\n",
            "Reading package lists... Done\n",
            "Building dependency tree       \n",
            "Reading state information... Done\n",
            "xvfb is already the newest version (2:1.19.6-1ubuntu4.9).\n",
            "0 upgraded, 0 newly installed, 0 to remove and 37 not upgraded.\n"
          ]
        }
      ]
    },
    {
      "cell_type": "code",
      "metadata": {
        "id": "yzGumIjJ73X1"
      },
      "source": [
        "def run_episodes(env, Q, num_episodes=100, to_print=False):\n",
        "    '''\n",
        "    Run some episodes to test the policy\n",
        "    '''\n",
        "    tot_rew = []\n",
        "    state = env.reset()\n",
        "\n",
        "    for _ in range(num_episodes):\n",
        "        done = False\n",
        "        game_rew = 0\n",
        "\n",
        "        while not done:\n",
        "            # select a greedy action\n",
        "            next_state, rew, done, _ = env.step(greedy(Q, state))\n",
        "\n",
        "            state = next_state\n",
        "            game_rew += rew \n",
        "            if done:\n",
        "                state = env.reset()\n",
        "                tot_rew.append(game_rew)\n",
        "    return tot_rew\n",
        "\n",
        "#eps-greedy\n",
        "def eps_greedy(Q, s, eps=0.1):\n",
        "    '''\n",
        "    Epsilon greedy policy\n",
        "    '''\n",
        "    if np.random.uniform(0,1) < eps:\n",
        "        # Choose a random action\n",
        "        return np.random.randint(Q.shape[1])\n",
        "    else:\n",
        "        # Choose the action of a greedy policy\n",
        "        return greedy(Q, s)\n",
        "\n",
        "#formatting action for ale env\n",
        "def formatAction(action):\n",
        "  return action\n",
        "\n",
        "#sarsa\n",
        "def SARSA(env, lr=0.01, num_episodes=10000, eps=0.3, gamma=0.95, eps_decay=0.00005):\n",
        "\n",
        "    nA = len(env.action_space)\n",
        "    nS = len(env._observe())\n",
        "\n",
        "    # Initialize the Q matrix\n",
        "    # Q: matrix nS*nA where each row represent a state and each colums represent a different action\n",
        "    Q = np.zeros((nS, nA))\n",
        "    games_reward = []\n",
        "    test_rewards = []\n",
        "\n",
        "    for ep in range(num_episodes):\n",
        "        state = env.reset()\n",
        "        done = False\n",
        "        tot_rew = 0\n",
        "\n",
        "        # decay the epsilon value until it reaches the threshold of 0.01\n",
        "        if eps > 0.01:\n",
        "            eps -= eps_decay\n",
        "\n",
        "\n",
        "        action = eps_greedy(Q, state, eps)\n",
        "        move = formatAction(action)\n",
        "        \n",
        "\n",
        "        # loop the main body until the environment stops\n",
        "        while not done:\n",
        "            next_state, rew, done, _ = env.step(move) # Take one step in the environment\n",
        "\n",
        "            # choose the next action (needed for the SARSA update)\n",
        "            next_action = eps_greedy(Q, next_state, eps) \n",
        "            # SARSA update\n",
        "            Q[state][action] = Q[state][action] + lr*(rew + gamma*Q[next_state][next_action] - Q[state][action])\n",
        "\n",
        "            state = next_state\n",
        "            action = next_action\n",
        "            move = formatAction(action)\n",
        "            tot_rew += rew\n",
        "            if done:\n",
        "                games_reward.append(tot_rew)\n",
        "\n",
        "        # Test the policy every 300 episodes and print the results\n",
        "        if (ep % 300) == 0:\n",
        "            test_rew = run_episodes(env, Q, 1000)\n",
        "            print(\"Episode:{:5d}  Eps:{:2.4f}  Rew:{:2.4f}\".format(ep, eps, test_rew))\n",
        "            test_rewards.append(test_rew)\n",
        "\n",
        "    return Q"
      ],
      "execution_count": 67,
      "outputs": []
    },
    {
      "cell_type": "code",
      "metadata": {
        "id": "-KWsxViS_q3d"
      },
      "source": [
        ""
      ],
      "execution_count": null,
      "outputs": []
    }
  ]
}