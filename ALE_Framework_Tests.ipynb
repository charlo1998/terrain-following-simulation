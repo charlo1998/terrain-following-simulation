{
  "nbformat": 4,
  "nbformat_minor": 0,
  "metadata": {
    "colab": {
      "name": "ALE Framework Tests",
      "provenance": [],
      "include_colab_link": true
    },
    "kernelspec": {
      "display_name": "Python 3 (ipykernel)",
      "language": "python",
      "name": "python3"
    },
    "language_info": {
      "codemirror_mode": {
        "name": "ipython",
        "version": 3
      },
      "file_extension": ".py",
      "mimetype": "text/x-python",
      "name": "python",
      "nbconvert_exporter": "python",
      "pygments_lexer": "ipython3",
      "version": "3.9.8"
    }
  },
  "cells": [
    {
      "cell_type": "markdown",
      "metadata": {
        "id": "view-in-github",
        "colab_type": "text"
      },
      "source": [
        "<a href=\"https://colab.research.google.com/github/charlo1998/terrain-following-simulation/blob/main/ALE_Framework_Tests.ipynb\" target=\"_parent\"><img src=\"https://colab.research.google.com/assets/colab-badge.svg\" alt=\"Open In Colab\"/></a>"
      ]
    },
    {
      "cell_type": "code",
      "metadata": {
        "id": "3z3aqLItDvig",
        "colab": {
          "base_uri": "https://localhost:8080/"
        },
        "outputId": "042d4bb7-5291-48d0-9091-478de0597ef9"
      },
      "source": [
        "import sys\n",
        "\n",
        "if 'google.colab' in sys.modules:\n",
        "    !rm -rf *\n",
        "    !git clone https://github.com/Tinynja/Sarsa-phi-EB\n",
        "    !mv Sarsa-phi-EB/* .\n",
        "    !rm -rf Sarsa-phi-EB\n",
        "    # DON'T install packages defined in Pipfile_colab_remove\n",
        "    !sed -ri \"/$(tr '\\n' '|' < Pipfile_colab_remove)/d\" Pipfile\n",
        "else:\n",
        "    print('Skipping GitHub cloning since not running in Colab.')"
      ],
      "execution_count": 1,
      "outputs": [
        {
          "output_type": "stream",
          "name": "stdout",
          "text": [
            "Cloning into 'Sarsa-phi-EB'...\n",
            "remote: Enumerating objects: 193, done.\u001b[K\n",
            "remote: Counting objects: 100% (193/193), done.\u001b[K\n",
            "remote: Compressing objects: 100% (167/167), done.\u001b[K\n",
            "remote: Total 193 (delta 39), reused 148 (delta 17), pack-reused 0\u001b[K\n",
            "Receiving objects: 100% (193/193), 613.07 KiB | 2.42 MiB/s, done.\n",
            "Resolving deltas: 100% (39/39), done.\n"
          ]
        }
      ]
    },
    {
      "cell_type": "code",
      "metadata": {
        "id": "ZdficWqDDviq",
        "colab": {
          "base_uri": "https://localhost:8080/"
        },
        "outputId": "4d078a66-1348-4ca6-bfd8-33a3886f9fc5"
      },
      "source": [
        "# Install required dependencies\n",
        "if 'google.colab' in sys.modules:\n",
        "    # Colab doesn't support pipenv, hence we convert Pipfile into requirements.txt\n",
        "    !pip install pipenv 1> /dev/null\n",
        "    !pipenv lock -r > requirements.txt\n",
        "    !pip install -r requirements.txt 1> /dev/null\n",
        "else:\n",
        "    !pipenv lock 1> /dev/null\n",
        "    !pipenv install --deploy 1> /dev/null"
      ],
      "execution_count": 2,
      "outputs": [
        {
          "output_type": "stream",
          "name": "stdout",
          "text": [
            "Creating a virtualenv for this project...\n",
            "Pipfile: /content/Pipfile\n",
            "Using /usr/local/bin/python (3.7.12) to create virtualenv...\n",
            "⠼\u001b[0m Creating virtual environment...\u001b[Kcreated virtual environment CPython3.7.12.final.0-64 in 949ms\n",
            "  creator CPython3Posix(dest=/root/.local/share/virtualenvs/content-cQIIIOO2, clear=False, no_vcs_ignore=False, global=False)\n",
            "  seeder FromAppData(download=False, pip=bundle, setuptools=bundle, wheel=bundle, via=copy, app_data_dir=/root/.local/share/virtualenv)\n",
            "    added seed packages: pip==21.3.1, setuptools==58.3.0, wheel==0.37.0\n",
            "  activators BashActivator,CShellActivator,FishActivator,NushellActivator,PowerShellActivator,PythonActivator\n",
            "\n",
            "\u001b[K\u001b[?25h\u001b[32m\u001b[22m✔ Successfully created virtual environment!\u001b[39m\u001b[22m\u001b[0m \n",
            "Virtualenv location: /root/.local/share/virtualenvs/content-cQIIIOO2\n",
            "Pipfile.lock not found, creating...\n",
            "Locking [dev-packages] dependencies...\n",
            "Locking [packages] dependencies...\n",
            "\u001b[KBuilding requirements...\n",
            "\u001b[KResolving dependencies...\n",
            "\u001b[K\u001b[?25h\u001b[32m\u001b[22m✔ Success!\u001b[39m\u001b[22m\u001b[0m \n",
            "Updated Pipfile.lock (44ce9b)!\n",
            "\u001b[31mERROR: pip's dependency resolver does not currently take into account all the packages that are installed. This behaviour is the source of the following dependency conflicts.\n",
            "yellowbrick 1.3.post1 requires numpy<1.20,>=1.16.0, but you have numpy 1.21.4 which is incompatible.\n",
            "datascience 0.10.6 requires folium==0.2.1, but you have folium 0.8.3 which is incompatible.\n",
            "arviz 0.11.4 requires typing-extensions<4,>=3.7.4.3, but you have typing-extensions 4.0.1 which is incompatible.\n",
            "albumentations 0.1.12 requires imgaug<0.2.7,>=0.2.5, but you have imgaug 0.2.9 which is incompatible.\u001b[0m\n"
          ]
        }
      ]
    },
    {
      "cell_type": "code",
      "metadata": {
        "scrolled": true,
        "id": "_YFCigY7Dvis",
        "colab": {
          "base_uri": "https://localhost:8080/"
        },
        "outputId": "93f23e09-6ee3-4918-d4b4-1cec2b042e8f"
      },
      "source": [
        "# Import all supported ROMs into ALE\n",
        "!ale-import-roms ROMS"
      ],
      "execution_count": 3,
      "outputs": [
        {
          "output_type": "stream",
          "name": "stdout",
          "text": [
            "\u001b[92m[SUPPORTED]    \u001b[0m                qbert        ROMS/Q. Bert (1983).bin\n",
            "\u001b[92m[SUPPORTED]    \u001b[0m               casino ROMS/Casino - Poker Plus (Paddle) (1979).bin\n",
            "\u001b[92m[SUPPORTED]    \u001b[0m         demon_attack ROMS/Demon Attack (Death from Above) (1982).bin\n",
            "\u001b[92m[SUPPORTED]    \u001b[0m              bowling        ROMS/Bowling (1979).bin\n",
            "\u001b[92m[SUPPORTED]    \u001b[0m             seaquest       ROMS/Seaquest (1983).bin\n",
            "\u001b[92m[SUPPORTED]    \u001b[0m      chopper_command ROMS/Chopper Command (1982).bin\n",
            "\u001b[92m[SUPPORTED]    \u001b[0m           time_pilot     ROMS/Time Pilot (1983).bin\n",
            "\u001b[92m[SUPPORTED]    \u001b[0m             trondead ROMS/TRON - Deadly Discs (TRON Joystick) (1983).bin\n",
            "\u001b[92m[SUPPORTED]    \u001b[0m            jamesbond ROMS/James Bond 007 (James Bond Agent 007) (1984).bin\n",
            "\u001b[92m[SUPPORTED]    \u001b[0m               pacman        ROMS/Pac-Man (1982).bin\n",
            "\u001b[92m[SUPPORTED]    \u001b[0m               kaboom ROMS/Kaboom! (Paddle) (1981).bin\n",
            "\u001b[92m[SUPPORTED]    \u001b[0m              asterix ROMS/Asterix (AKA Taz) (1983).bin\n",
            "\u001b[92m[SUPPORTED]    \u001b[0m                qbert         ROMS/Q-bert (1987).bin\n",
            "\u001b[92m[SUPPORTED]    \u001b[0m              pitfall ROMS/Pitfall! - Pitfall Harry's Jungle Adventure (Jungle Runner) (1982).bin\n",
            "\u001b[92m[SUPPORTED]    \u001b[0m              venture        ROMS/Venture (1982).bin\n",
            "\u001b[92m[SUPPORTED]    \u001b[0m               enduro         ROMS/Enduro (1983).bin\n",
            "\u001b[92m[SUPPORTED]    \u001b[0m                alien          ROMS/Alien (1982).bin\n",
            "\u001b[92m[SUPPORTED]    \u001b[0m             atlantis ROMS/Atlantis (Lost City of Atlantis) (1982).bin\n",
            "\u001b[92m[SUPPORTED]    \u001b[0m           basic_math ROMS/Basic Math - Math (Math Pack) (1977).bin\n",
            "\u001b[92m[SUPPORTED]    \u001b[0m                   et ROMS/E.T. - The Extra-Terrestrial (1982).bin\n",
            "\u001b[92m[SUPPORTED]    \u001b[0m         lost_luggage ROMS/Lost Luggage (Airport Mayhem) (1982).bin\n",
            "\u001b[92m[SUPPORTED]    \u001b[0m               boxing ROMS/Boxing - La Boxe (1980).bin\n",
            "\u001b[92m[SUPPORTED]    \u001b[0m             gravitar       ROMS/Gravitar (1983).bin\n",
            "\u001b[92m[SUPPORTED]    \u001b[0m     human_cannonball ROMS/Human Cannonball - Cannon Man (1979).bin\n",
            "\u001b[92m[SUPPORTED]    \u001b[0m           beam_rider      ROMS/Beamrider (1984).bin\n",
            "\u001b[92m[SUPPORTED]    \u001b[0m               gopher ROMS/Gopher (Gopher Attack) (1982).bin\n",
            "\u001b[92m[SUPPORTED]    \u001b[0m              asterix ROMS/Asterix (AKA Taz) (1984).bin\n",
            "\u001b[92m[SUPPORTED]    \u001b[0m       name_this_game ROMS/Name This Game (Guardians of Treasure) (1983).bin\n",
            "\u001b[92m[SUPPORTED]    \u001b[0m                krull          ROMS/Krull (1983).bin\n",
            "\u001b[92m[SUPPORTED]    \u001b[0m            videocube ROMS/Atari Video Cube (Atari Cube, Video Cube) (1983).bin\n",
            "\u001b[92m[SUPPORTED]    \u001b[0m            tutankham      ROMS/Tutankham (1983).bin\n",
            "\u001b[92m[SUPPORTED]    \u001b[0m       space_invaders ROMS/Space Invaders (1980).bin\n",
            "\u001b[92m[SUPPORTED]    \u001b[0m         sir_lancelot   ROMS/Sir Lancelot (1983).bin\n",
            "\u001b[92m[SUPPORTED]    \u001b[0m             robotank ROMS/Robot Tank (Robotank) (1983).bin\n",
            "\u001b[92m[SUPPORTED]    \u001b[0m             kangaroo       ROMS/Kangaroo (1983).bin\n",
            "\u001b[92m[SUPPORTED]    \u001b[0m       tic_tac_toe_3d ROMS/3-D Tic-Tac-Toe (1980).bin\n",
            "\u001b[92m[SUPPORTED]    \u001b[0m            centipede      ROMS/Centipede (1983).bin\n",
            "\u001b[92m[SUPPORTED]    \u001b[0m      elevator_action ROMS/Elevator Action (1983).bin\n",
            "\u001b[92m[SUPPORTED]    \u001b[0m               tennis ROMS/Tennis - Le Tennis (1981).bin\n",
            "\u001b[92m[SUPPORTED]    \u001b[0m        wizard_of_wor  ROMS/Wizard of Wor (1982).bin\n",
            "\u001b[92m[SUPPORTED]    \u001b[0m            atlantis2    ROMS/Atlantis II (1982).bin\n",
            "\u001b[92m[SUPPORTED]    \u001b[0m           ice_hockey ROMS/Ice Hockey - Le Hockey Sur Glace (1981).bin\n",
            "\u001b[92m[SUPPORTED]    \u001b[0m             surround ROMS/Surround - Chase (Blockade) (1977).bin\n",
            "\u001b[92m[SUPPORTED]    \u001b[0m      keystone_kapers ROMS/Keystone Kapers - Raueber und Gendarm (1983).bin\n",
            "\u001b[92m[SUPPORTED]    \u001b[0m             carnival       ROMS/Carnival (1982).bin\n",
            "\u001b[92m[SUPPORTED]    \u001b[0m              phoenix        ROMS/Phoenix (1983).bin\n",
            "\u001b[92m[SUPPORTED]    \u001b[0m           basic_math ROMS/Fun with Numbers (AKA Basic Math) (1980).bin\n",
            "\u001b[92m[SUPPORTED]    \u001b[0m               skiing ROMS/Skiing - Le Ski (1980).bin\n",
            "\u001b[92m[SUPPORTED]    \u001b[0m              frogger        ROMS/Frogger (1982).bin\n",
            "\u001b[92m[SUPPORTED]    \u001b[0m              assault ROMS/Assault (AKA Sky Alien) (1983).bin\n",
            "\u001b[92m[SUPPORTED]    \u001b[0m         yars_revenge ROMS/Yars' Revenge (Time Freeze) (1982).bin\n",
            "\u001b[92m[SUPPORTED]    \u001b[0m          double_dunk ROMS/Double Dunk (Super Basketball) (1989).bin\n",
            "\u001b[92m[SUPPORTED]    \u001b[0m             defender       ROMS/Defender (1982).bin\n",
            "\u001b[92m[SUPPORTED]    \u001b[0m             entombed ROMS/Entombed (Maze Chase, Pharaoh's Tomb, Zombie) (1983).bin\n",
            "\u001b[92m[SUPPORTED]    \u001b[0m                qbert         ROMS/Q-bert (1983).bin\n",
            "\u001b[92m[SUPPORTED]    \u001b[0m              koolaid ROMS/Kool-Aid Man (Kool Aid Pitcher Man) (1983).bin\n",
            "\u001b[92m[SUPPORTED]    \u001b[0m       kung_fu_master ROMS/Kung-Fu Master (1987).bin\n",
            "\u001b[92m[SUPPORTED]    \u001b[0m            space_war ROMS/Space War - Space Star (32 in 1) (1988).bin\n",
            "\u001b[92m[SUPPORTED]    \u001b[0m         darkchambers ROMS/Dark Chambers (Dungeon, Dungeon Masters) (1989).bin\n",
            "\u001b[92m[SUPPORTED]    \u001b[0m       miniature_golf ROMS/Miniature Golf - Arcade Golf (1979).bin\n",
            "\u001b[92m[SUPPORTED]    \u001b[0m              turmoil        ROMS/Turmoil (1982).bin\n",
            "\u001b[92m[SUPPORTED]    \u001b[0m                 pong ROMS/Video Olympics - Pong Sports (Paddle) (1977).bin\n",
            "\u001b[92m[SUPPORTED]    \u001b[0m             galaxian       ROMS/Galaxian (1983).bin\n",
            "\u001b[92m[SUPPORTED]    \u001b[0m        fishing_derby  ROMS/Fishing Derby (1980).bin\n",
            "\u001b[92m[SUPPORTED]    \u001b[0m          donkey_kong    ROMS/Donkey Kong (1982).bin\n",
            "\u001b[92m[SUPPORTED]    \u001b[0m            frostbite      ROMS/Frostbite (1983).bin\n",
            "\u001b[92m[SUPPORTED]    \u001b[0m           backgammon ROMS/Backgammon (Paddle) (1979).bin\n",
            "\u001b[92m[SUPPORTED]    \u001b[0m            king_kong      ROMS/King Kong (1982).bin\n",
            "\u001b[92m[SUPPORTED]    \u001b[0m          road_runner    ROMS/Road Runner (1989).bin\n",
            "\u001b[92m[SUPPORTED]    \u001b[0m              othello        ROMS/Othello (1981).bin\n",
            "\u001b[92m[SUPPORTED]    \u001b[0m          donkey_kong    ROMS/Donkey Kong (1987).bin\n",
            "\u001b[92m[SUPPORTED]    \u001b[0m           videochess ROMS/Video Chess (Computer Chess) (1979).bin\n",
            "\u001b[92m[SUPPORTED]    \u001b[0m              solaris ROMS/Solaris (The Last Starfighter, Star Raiders II, Universe) (1986).bin\n",
            "\u001b[92m[SUPPORTED]    \u001b[0m              hangman ROMS/Hangman - Spelling (1978).bin\n",
            "\u001b[92m[SUPPORTED]    \u001b[0m             crossbow       ROMS/Crossbow (1988).bin\n",
            "\u001b[92m[SUPPORTED]    \u001b[0m       journey_escape ROMS/Journey Escape (1983).bin\n",
            "\u001b[92m[SUPPORTED]    \u001b[0m        video_pinball ROMS/Video Pinball - Arcade Pinball (1981).bin\n",
            "\u001b[92m[SUPPORTED]    \u001b[0m    montezuma_revenge ROMS/Montezuma's Revenge - Featuring Panama Joe (1984).bin\n",
            "\u001b[92m[SUPPORTED]    \u001b[0m           mario_bros    ROMS/Mario Bros. (1983).bin\n",
            "\u001b[92m[SUPPORTED]    \u001b[0m                 klax           ROMS/Klax (1991).bin\n",
            "\u001b[92m[SUPPORTED]    \u001b[0m             breakout ROMS/Breakout - Breakaway IV (Paddle) (1978).bin\n",
            "\u001b[92m[SUPPORTED]    \u001b[0m            blackjack ROMS/Blackjack - Black Jack (Gambling) (Paddle) (1977).bin\n",
            "\u001b[92m[SUPPORTED]    \u001b[0m         flag_capture ROMS/Flag Capture - Capture (Capture the Flag) (1978).bin\n",
            "\u001b[92m[SUPPORTED]    \u001b[0m             air_raid ROMS/Air Raid (Men-A-Vision) (PAL) ~.bin\n",
            "\u001b[92m[SUPPORTED]    \u001b[0m           earthworld ROMS/SwordQuest - EarthWorld (Adventure I, SwordQuest I - EarthWorld) (1982).bin\n",
            "\u001b[92m[SUPPORTED]    \u001b[0m            riverraid     ROMS/River Raid (1982).bin\n",
            "\u001b[92m[SUPPORTED]    \u001b[0m             pitfall2 ROMS/Pitfall II - Lost Caverns (1984).bin\n",
            "\u001b[92m[SUPPORTED]    \u001b[0m               pooyan         ROMS/Pooyan (1983).bin\n",
            "\u001b[92m[SUPPORTED]    \u001b[0m               amidar         ROMS/Amidar (1982).bin\n",
            "\u001b[92m[SUPPORTED]    \u001b[0m            asteroids      ROMS/Asteroids (1981).bin\n",
            "\u001b[92m[SUPPORTED]    \u001b[0m          battle_zone     ROMS/Battlezone (1983).bin\n",
            "\u001b[92m[SUPPORTED]    \u001b[0m             surround ROMS/Surround (32 in 1) (Bit Corporation) (R320).bin\n",
            "\u001b[92m[SUPPORTED]    \u001b[0m          private_eye    ROMS/Private Eye (1984).bin\n",
            "\u001b[92m[SUPPORTED]    \u001b[0m        crazy_climber  ROMS/Crazy Climber (1983).bin\n",
            "\u001b[92m[SUPPORTED]    \u001b[0m          star_gunner     ROMS/Stargunner (1983).bin\n",
            "\u001b[92m[SUPPORTED]    \u001b[0m            up_n_down     ROMS/Up 'n Down (1984).bin\n",
            "\u001b[92m[SUPPORTED]    \u001b[0m          laser_gates ROMS/Laser Gates (AKA Innerspace) (1983).bin\n",
            "\u001b[92m[SUPPORTED]    \u001b[0m        video_pinball ROMS/Pinball (AKA Video Pinball) (Zellers).bin\n",
            "\u001b[92m[SUPPORTED]    \u001b[0m               zaxxon         ROMS/Zaxxon (1983).bin\n",
            "\u001b[92m[SUPPORTED]    \u001b[0m       video_checkers ROMS/Video Checkers - Checkers - Atari Video Checkers (1980).bin\n",
            "\u001b[92m[SUPPORTED]    \u001b[0m             superman       ROMS/Superman (1979).bin\n",
            "\u001b[92m[SUPPORTED]    \u001b[0m              berzerk        ROMS/Berzerk (1982).bin\n",
            "\u001b[92m[SUPPORTED]    \u001b[0m            adventure      ROMS/Adventure (1980).bin\n",
            "\u001b[92m[SUPPORTED]    \u001b[0m            ms_pacman    ROMS/Ms. Pac-Man (1983).bin\n",
            "\u001b[92m[SUPPORTED]    \u001b[0m        haunted_house ROMS/Haunted House (Mystery Mansion, Graves' Manor, Nightmare Manor) (1982).bin\n",
            "\u001b[92m[SUPPORTED]    \u001b[0m           bank_heist ROMS/Bank Heist (Bonnie & Clyde, Cops 'n' Robbers, Hold-Up, Roaring 20's) (1983).bin\n",
            "\u001b[92m[SUPPORTED]    \u001b[0m              freeway        ROMS/Freeway (1981).bin\n",
            "\u001b[92m[SUPPORTED]    \u001b[0m                 hero       ROMS/H.E.R.O. (1984).bin\n",
            "\u001b[92m[SUPPORTED]    \u001b[0m                mr_do        ROMS/Mr. Do! (1983).bin\n",
            "\u001b[92m[SUPPORTED]    \u001b[0m          word_zapper ROMS/Word Zapper (Word Grabber) (1982).bin\n",
            "\n",
            "\n",
            "\n",
            "Imported 110 / 110 ROMs\n"
          ]
        }
      ]
    },
    {
      "cell_type": "code",
      "metadata": {
        "id": "_SfKRFx8Dvit",
        "colab": {
          "base_uri": "https://localhost:8080/"
        },
        "outputId": "1e6b8507-02c2-4693-a7bd-50f665824c44"
      },
      "source": [
        "# Built-in libraries\n",
        "import re\n",
        "import sys\n",
        "import base64\n",
        "import random\n",
        "from pathlib import Path\n",
        "\n",
        "# Pipy libraries\n",
        "from IPython import display as ipythondisplay\n",
        "from ale_py import ALEInterface, SDL_SUPPORT\n",
        "from ale_py.roms import Breakout\n",
        "from PIL import Image"
      ],
      "execution_count": 4,
      "outputs": [
        {
          "output_type": "stream",
          "name": "stderr",
          "text": [
            "/usr/local/lib/python3.7/dist-packages/ale_py/roms/utils.py:90: DeprecationWarning: SelectableGroups dict interface is deprecated. Use select.\n",
            "  for external in metadata.entry_points().get(self.group, []):\n"
          ]
        }
      ]
    },
    {
      "cell_type": "code",
      "metadata": {
        "id": "zAs6_UzuKGjz"
      },
      "source": [
        "class EnvALE:\n",
        "    def __init__(self, rom, out_dir='ale-results', display=False, seed=0):\n",
        "        self.out_dir = Path(out_dir).resolve()\n",
        "        self.out_dir.mkdir(exist_ok=True)\n",
        "    \n",
        "        self.ale = ALEInterface()\n",
        "        self.ale.setInt(\"random_seed\", seed)\n",
        "        if SDL_SUPPORT and 'google.colab' not in sys.modules:\n",
        "            ale.setBool(\"sound\", True)\n",
        "            ale.setBool(\"display_screen\", True)\n",
        "        self.ale.loadROM(rom)\n",
        "\n",
        "        self.action_space = self.ale.getMinimalActionSet()\n",
        "\n",
        "        # Default values\n",
        "        self._timestep = 0\n",
        "        self._do_record = False\n",
        "        self._record_padding = None\n",
        "\n",
        "    def reset(self, do_record=False):\n",
        "        self.ale.reset_game()\n",
        "        observation = self._observe()\n",
        "        self._timestep = 0\n",
        "\n",
        "        self._do_record = do_record\n",
        "        self._handle_recording()\n",
        "        \n",
        "        return observation\n",
        "        \n",
        "    def step(self, action):\n",
        "        reward = self.ale.act(action)\n",
        "        observation = self._observe()\n",
        "        done = self.ale.game_over()\n",
        "        self._timestep += 1\n",
        "        \n",
        "        self._handle_recording()\n",
        "        \n",
        "        return observation, reward, done, None\n",
        "\n",
        "    def show_video(self, scale=1):\n",
        "        \"\"\"Show a .mp4 video in html format of the recorded episode\"\"\"\n",
        "        filepath = self.out_dir.joinpath('record.mp4')\n",
        "        video_b64 = base64.b64encode(filepath.read_bytes())\n",
        "        html = f'''<video alt=\"{filepath}\" autoplay loop controls style=\"height:300px\">\n",
        "                        <source src=\"data:video/mp4;base64,{video_b64.decode('ascii')}\" type=\"video/mp4\" />\n",
        "                   </video>'''\n",
        "        ipythondisplay.display(ipythondisplay.HTML(data=html))\n",
        "        \n",
        "    def _observe(self):\n",
        "        observation = self.ale.getScreenRGB()\n",
        "        return observation\n",
        "    \n",
        "    def _handle_recording(self):\n",
        "        # Do nothing if not asked to record\n",
        "        if not self._do_record: return\n",
        "        # This is a new episode, delete previously recorded steps\n",
        "        if not self._timestep:\n",
        "            self.out_dir.joinpath('record').mkdir(exist_ok=True)\n",
        "            for step_png in self.out_dir.glob('record/step_*.png'):\n",
        "                step_png.unlink()\n",
        "            self._record_padding = None\n",
        "        # Record current timestep png\n",
        "        out_path = self.out_dir.joinpath(f'record/step_{self._timestep}.png')\n",
        "        self.ale.saveScreenPNG(str(out_path))\n",
        "        # Once the episode is over, format all png filenames to have the same integer 0 padding\n",
        "        if self.ale.game_over():\n",
        "            self._record_padding = len(str(self._timestep))\n",
        "            self._standardize_record_padding()\n",
        "            self._png_to_mp4()\n",
        "    \n",
        "    def _standardize_record_padding(self):\n",
        "        number_pattern = re.compile('\\d+')\n",
        "        for png in self.out_dir.glob('record/step_*.png'):\n",
        "            timestep = int(number_pattern.search(png.stem).group(0))\n",
        "            new_name = png.parent.joinpath(f'step_{timestep:0{self._record_padding}d}.png')\n",
        "            png.rename(new_name)\n",
        "\n",
        "    def _png_to_mp4(self):\n",
        "        \"\"\"Convert the recorded set of png files into a mp4 video\"\"\"\n",
        "        in_dir = self.out_dir.joinpath('record')\n",
        "        in_pattern = self.out_dir.joinpath(f'record/step_%0{self._record_padding}d.png')\n",
        "        out_file = self.out_dir.joinpath('record.mp4')\n",
        "        !cd $in_dir; ffmpeg -hide_banner -loglevel error -r 60 -i $in_pattern -vcodec libx264 -crf 25 -pix_fmt yuv420p -y $out_file"
      ],
      "execution_count": 50,
      "outputs": []
    },
    {
      "cell_type": "code",
      "metadata": {
        "colab": {
          "base_uri": "https://localhost:8080/",
          "height": 322
        },
        "id": "dh8WdcHh4Z8M",
        "outputId": "38a7e426-50e7-4b6e-f5a1-98bf25fdeffb"
      },
      "source": [
        "env = EnvALE(Breakout)\n",
        "\n",
        "# Play an episode\n",
        "done, observation = False, env.reset(do_record=True)\n",
        "while not done:\n",
        "    action = random.choice(env.action_space)\n",
        "    observation, reward, done, info = env.step(action)\n",
        "env.show_video()"
      ],
      "execution_count": 51,
      "outputs": [
        {
          "output_type": "display_data",
          "data": {
            "text/html": [
              "<video alt=\"/content/ale-results/record.mp4\" autoplay loop controls style=\"height:300px\">\n",
              "                        <source src=\"data:video/mp4;base64,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\" type=\"video/mp4\" />\n",
              "                   </video>"
            ],
            "text/plain": [
              "<IPython.core.display.HTML object>"
            ]
          },
          "metadata": {}
        }
      ]
    },
    {
      "cell_type": "code",
      "metadata": {
        "id": "SUzoxYP6GJ4J"
      },
      "source": [
        "class BreakoutEnv(EnvALE):\n",
        "  def step(self, action):\n",
        "    if action == 0:\n",
        "        action = env.action_space[0]\n",
        "    elif action == 1:\n",
        "        action = env.action_space[1]\n",
        "    elif action == 2:\n",
        "        action = env.action_space[2]\n",
        "    elif action == 3:\n",
        "        action = env.action_space[3]\n",
        "    else:\n",
        "      print('action not recognised, use 0, 1, 2, or 3')\n",
        "    reward = self.ale.act(action)\n",
        "    observation = self._observe()\n",
        "    done = self.ale.game_over()\n",
        "    self._timestep += 1\n",
        "    \n",
        "    self._handle_recording()\n",
        "    \n",
        "    return observation, reward, done, None\n",
        "    "
      ],
      "execution_count": 58,
      "outputs": []
    },
    {
      "cell_type": "code",
      "metadata": {
        "colab": {
          "base_uri": "https://localhost:8080/",
          "height": 322
        },
        "id": "jO-e0i9qFA_h",
        "outputId": "3a618f53-b4d7-4e30-eb9d-18314230e7f9"
      },
      "source": [
        "env = BreakoutEnv(Breakout)\n",
        "\n",
        "# Play an episode\n",
        "done, observation = False, env.reset(do_record=True)\n",
        "while not done:\n",
        "    #action = random.choice(env.action_space)\n",
        "    action = random.choice(range(4))\n",
        "    observation, reward, done, info = env.step(action)\n",
        "env.show_video()"
      ],
      "execution_count": 59,
      "outputs": [
        {
          "output_type": "display_data",
          "data": {
            "text/html": [
              "<video alt=\"/content/ale-results/record.mp4\" autoplay loop controls style=\"height:300px\">\n",
              "                        <source src=\"data:video/mp4;base64,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\" type=\"video/mp4\" />\n",
              "                   </video>"
            ],
            "text/plain": [
              "<IPython.core.display.HTML object>"
            ]
          },
          "metadata": {}
        }
      ]
    },
    {
      "cell_type": "markdown",
      "metadata": {
        "id": "59AT0U2m7h-s"
      },
      "source": [
        "Sarsa implementation\n"
      ]
    },
    {
      "cell_type": "code",
      "metadata": {
        "colab": {
          "base_uri": "https://localhost:8080/"
        },
        "id": "oAVHYH8c6rFJ",
        "outputId": "1d0acd12-b577-4749-98e1-29b34246fc31"
      },
      "source": [
        "# install dependencies\n",
        "!pip install torch torchvision pyvirtualdisplay matplotlib seaborn pandas numpy pathlib gym\n",
        "!sudo apt-get install xvfb\n",
        "\n",
        "# Run this cell\n",
        "\n",
        "# type hinting \n",
        "from typing import Sequence, Tuple, Dict, Any, Optional\n",
        "\n",
        "import numpy as np\n",
        "\n",
        "# torch stuff\n",
        "#import torch\n",
        "#import torch.nn as nn\n",
        "#import torch.nn.functional as F \n",
        "#from torch import optim\n",
        "\n",
        "# env\n",
        "import gym\n",
        "\n",
        "# data manipulation, colab dispaly, and plotting\n",
        "import pandas as pd\n",
        "import matplotlib.pyplot as plt\n",
        "\n",
        "\n",
        "# misc util\n",
        "import random"
      ],
      "execution_count": 10,
      "outputs": [
        {
          "output_type": "stream",
          "name": "stdout",
          "text": [
            "Requirement already satisfied: torch in /usr/local/lib/python3.7/dist-packages (1.10.0+cu111)\n",
            "Requirement already satisfied: torchvision in /usr/local/lib/python3.7/dist-packages (0.11.1+cu111)\n",
            "Requirement already satisfied: pyvirtualdisplay in /usr/local/lib/python3.7/dist-packages (2.2)\n",
            "Requirement already satisfied: matplotlib in /usr/local/lib/python3.7/dist-packages (3.2.2)\n",
            "Requirement already satisfied: seaborn in /usr/local/lib/python3.7/dist-packages (0.11.2)\n",
            "Requirement already satisfied: pandas in /usr/local/lib/python3.7/dist-packages (1.1.5)\n",
            "Requirement already satisfied: numpy in /usr/local/lib/python3.7/dist-packages (1.21.4)\n",
            "Requirement already satisfied: pathlib in /usr/local/lib/python3.7/dist-packages (1.0.1)\n",
            "Requirement already satisfied: gym in /usr/local/lib/python3.7/dist-packages (0.17.3)\n",
            "Requirement already satisfied: typing-extensions in /usr/local/lib/python3.7/dist-packages (from torch) (4.0.1)\n",
            "Requirement already satisfied: pillow!=8.3.0,>=5.3.0 in /usr/local/lib/python3.7/dist-packages (from torchvision) (7.1.2)\n",
            "Requirement already satisfied: EasyProcess in /usr/local/lib/python3.7/dist-packages (from pyvirtualdisplay) (0.3)\n",
            "Requirement already satisfied: kiwisolver>=1.0.1 in /usr/local/lib/python3.7/dist-packages (from matplotlib) (1.3.2)\n",
            "Requirement already satisfied: cycler>=0.10 in /usr/local/lib/python3.7/dist-packages (from matplotlib) (0.11.0)\n",
            "Requirement already satisfied: pyparsing!=2.0.4,!=2.1.2,!=2.1.6,>=2.0.1 in /usr/local/lib/python3.7/dist-packages (from matplotlib) (3.0.6)\n",
            "Requirement already satisfied: python-dateutil>=2.1 in /usr/local/lib/python3.7/dist-packages (from matplotlib) (2.8.2)\n",
            "Requirement already satisfied: six>=1.5 in /usr/local/lib/python3.7/dist-packages (from python-dateutil>=2.1->matplotlib) (1.15.0)\n",
            "Requirement already satisfied: scipy>=1.0 in /usr/local/lib/python3.7/dist-packages (from seaborn) (1.4.1)\n",
            "Requirement already satisfied: pytz>=2017.2 in /usr/local/lib/python3.7/dist-packages (from pandas) (2018.9)\n",
            "Requirement already satisfied: cloudpickle<1.7.0,>=1.2.0 in /usr/local/lib/python3.7/dist-packages (from gym) (1.3.0)\n",
            "Requirement already satisfied: pyglet<=1.5.0,>=1.4.0 in /usr/local/lib/python3.7/dist-packages (from gym) (1.5.0)\n",
            "Requirement already satisfied: future in /usr/local/lib/python3.7/dist-packages (from pyglet<=1.5.0,>=1.4.0->gym) (0.16.0)\n",
            "Reading package lists... Done\n",
            "Building dependency tree       \n",
            "Reading state information... Done\n",
            "xvfb is already the newest version (2:1.19.6-1ubuntu4.9).\n",
            "0 upgraded, 0 newly installed, 0 to remove and 37 not upgraded.\n"
          ]
        }
      ]
    },
    {
      "cell_type": "code",
      "metadata": {
        "id": "yzGumIjJ73X1"
      },
      "source": [
        "def run_episodes(env, Q, num_episodes=100, to_print=False):\n",
        "    '''\n",
        "    Run some episodes to test the policy\n",
        "    '''\n",
        "    tot_rew = []\n",
        "    state = env.reset()\n",
        "\n",
        "    for _ in range(num_episodes):\n",
        "        done = False\n",
        "        game_rew = 0\n",
        "\n",
        "        while not done:\n",
        "            # select a greedy action\n",
        "            next_state, rew, done, _ = env.step(greedy(Q, state))\n",
        "\n",
        "            state = next_state\n",
        "            game_rew += rew \n",
        "            if done:\n",
        "                state = env.reset()\n",
        "                tot_rew.append(game_rew)\n",
        "    return tot_rew\n",
        "\n",
        "#eps-greedy\n",
        "def eps_greedy(Q, s, eps=0.1):\n",
        "    '''\n",
        "    Epsilon greedy policy\n",
        "    '''\n",
        "    if np.random.uniform(0,1) < eps:\n",
        "        # Choose a random action\n",
        "        return np.random.randint(Q.shape[1])\n",
        "    else:\n",
        "        # Choose the action of a greedy policy\n",
        "        return greedy(Q, s)\n",
        "\n",
        "#formatting action for ale env\n",
        "def formatAction(action):\n",
        "  return action\n",
        "\n",
        "#sarsa\n",
        "def SARSA(env, lr=0.01, num_episodes=10000, eps=0.3, gamma=0.95, eps_decay=0.00005):\n",
        "\n",
        "    nA = len(env.action_space)\n",
        "    nS = 1\n",
        "    for shape in env.ale.getScreenRGB().shape:\n",
        "      nS = nS*shape\n",
        "\n",
        "    # Initialize the Q matrix\n",
        "    # Q: matrix nS*nA where each row represent a state and each colums represent a different action\n",
        "    Q = np.zeros((nS, nA))\n",
        "    games_reward = []\n",
        "    test_rewards = []\n",
        "\n",
        "    for ep in range(num_episodes):\n",
        "        state = env.reset()\n",
        "        done = False\n",
        "        tot_rew = 0\n",
        "\n",
        "        # decay the epsilon value until it reaches the threshold of 0.01\n",
        "        if eps > 0.01:\n",
        "            eps -= eps_decay\n",
        "\n",
        "\n",
        "        action = eps_greedy(Q, state, eps)\n",
        "        move = formatAction(action)\n",
        "        \n",
        "\n",
        "        # loop the main body until the environment stops\n",
        "        while not done:\n",
        "            next_state, rew, done, _ = env.step(move) # Take one step in the environment\n",
        "\n",
        "            # choose the next action (needed for the SARSA update)\n",
        "            next_action = eps_greedy(Q, next_state, eps) \n",
        "            # SARSA update\n",
        "            Q[state][action] = Q[state][action] + lr*(rew + gamma*Q[next_state][next_action] - Q[state][action])\n",
        "\n",
        "            state = next_state\n",
        "            action = next_action\n",
        "            move = formatAction(action)\n",
        "            tot_rew += rew\n",
        "            if done:\n",
        "                games_reward.append(tot_rew)\n",
        "\n",
        "        # Test the policy every 300 episodes and print the results\n",
        "        if (ep % 300) == 0:\n",
        "            test_rew = run_episodes(env, Q, 1000)\n",
        "            print(\"Episode:{:5d}  Eps:{:2.4f}  Rew:{:2.4f}\".format(ep, eps, test_rew))\n",
        "            test_rewards.append(test_rew)\n",
        "\n",
        "    return Q"
      ],
      "execution_count": 24,
      "outputs": []
    },
    {
      "cell_type": "code",
      "metadata": {
        "id": "-KWsxViS_q3d"
      },
      "source": [
        ""
      ],
      "execution_count": null,
      "outputs": []
    }
  ]
}